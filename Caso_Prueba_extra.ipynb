{
  "nbformat": 4,
  "nbformat_minor": 0,
  "metadata": {
    "colab": {
      "name": "Untitled0.ipynb",
      "provenance": [],
      "authorship_tag": "ABX9TyNgY3tz2OXD445lHWDD6DUT",
      "include_colab_link": true
    },
    "kernelspec": {
      "name": "python3",
      "display_name": "Python 3"
    },
    "language_info": {
      "name": "python"
    }
  },
  "cells": [
    {
      "cell_type": "markdown",
      "metadata": {
        "id": "view-in-github",
        "colab_type": "text"
      },
      "source": [
        "<a href=\"https://colab.research.google.com/github/Cootte/CNNs-Audio-Emotion-Recognition/blob/master/Caso_Prueba_extra.ipynb\" target=\"_parent\"><img src=\"https://colab.research.google.com/assets/colab-badge.svg\" alt=\"Open In Colab\"/></a>"
      ]
    },
    {
      "cell_type": "code",
      "execution_count": 1,
      "metadata": {
        "colab": {
          "base_uri": "https://localhost:8080/"
        },
        "id": "r0ibdTrZIwNZ",
        "outputId": "942afd68-3178-4a7e-e433-d94277d83dca"
      },
      "outputs": [
        {
          "name": "stdout",
          "output_type": "stream",
          "text": [
            "Tamaño de palabras (L), Catidad de palabras (D) y numero de pruebas(N)\n",
            "3 5 6\n",
            "Escribas las palabras que dicen los alienigenas\n",
            "abc\n",
            "Escribas las palabras que dicen los alienigenas\n",
            "bca\n",
            "Escribas las palabras que dicen los alienigenas\n",
            "dac\n",
            "Escribas las palabras que dicen los alienigenas\n",
            "dbc\n",
            "Escribas las palabras que dicen los alienigenas\n",
            "cba\n"
          ]
        }
      ],
      "source": [
        "print (\"Tamaño de palabras (L), Catidad de palabras (D) y numero de pruebas(N)\")\n",
        "\n",
        "L, D, N  = map(int, input().split())\n",
        "\n",
        "data = []\n",
        "for i in range(D): \n",
        "    print (\"Escribas las palabras que dicen los alienigenas\")\n",
        "    aux = input ()\n",
        "    data.append(aux[:L])"
      ]
    },
    {
      "cell_type": "code",
      "source": [
        "for i in range(N):\n",
        "    numCases = 0\n",
        "    case = input()\n",
        "    case = case.split(\")\")\n",
        "    for j in range(D):\n",
        "        if len(case) == 1:\n",
        "            if case[0] == data[j]:\n",
        "                numCases += 1\n",
        "                print (numCases)\n",
        "        elif len(case) == L+1:\n",
        "            find = True\n",
        "            for k in range(L):\n",
        "                if case[k].find(data[j][k]) == -1:\n",
        "                    find = False\n",
        "                    break\n",
        "            if find:\n",
        "                numCases += 1\n",
        "    print(\"Case #\"+str(i+1)+\": \"+str(numCases))\n"
      ],
      "metadata": {
        "colab": {
          "base_uri": "https://localhost:8080/"
        },
        "id": "I9kyUBdxIzNC",
        "outputId": "220f5d9b-702e-426e-9d7e-4ff60a653a31"
      },
      "execution_count": 2,
      "outputs": [
        {
          "output_type": "stream",
          "name": "stdout",
          "text": [
            "(ab)(bc)(ca)\n",
            "Case #1: 2\n",
            "abc\n",
            "1\n",
            "Case #2: 1\n",
            "(abc)(abc)(abc)\n",
            "Case #3: 3\n",
            "(xyz)(bc)\n",
            "Case #4: 0\n",
            "(ad)b(ab)\n",
            "Case #5: 0\n",
            "(ac)(ab)a\n",
            "Case #6: 0\n"
          ]
        }
      ]
    }
  ]
}